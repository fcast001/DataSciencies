{
 "cells": [
  {
   "cell_type": "code",
   "execution_count": 3,
   "metadata": {},
   "outputs": [],
   "source": [
    "import pandas as pd\n",
    "import os"
   ]
  },
  {
   "cell_type": "code",
   "execution_count": 7,
   "metadata": {},
   "outputs": [],
   "source": [
    "os.chdir('..')"
   ]
  },
  {
   "cell_type": "code",
   "execution_count": 11,
   "metadata": {},
   "outputs": [],
   "source": [
    "df_gastos_varios = pd.read_excel('12_DICIEMBRE_2020.xlsx', sheet_name='GASTOS VARIOS', skiprows=5)\n",
    "df_gastos_varios['SHEET'] = 'GASTOS VARIOS'"
   ]
  },
  {
   "cell_type": "code",
   "execution_count": 12,
   "metadata": {},
   "outputs": [],
   "source": [
    "df_contratistas = pd.read_excel('12_DICIEMBRE_2020.xlsx', sheet_name='CONTRATISTAS Y FDO FED', skiprows=5)\n",
    "df_contratistas['SHEET'] = 'CONTRATISTAS Y FDO FED'"
   ]
  },
  {
   "cell_type": "code",
   "execution_count": 13,
   "metadata": {},
   "outputs": [],
   "source": [
    "df_servicios = pd.read_excel('12_DICIEMBRE_2020.xlsx', sheet_name='SERV PPROF', skiprows=5)\n",
    "df_servicios['SHEET'] = 'SERV PPROF'"
   ]
  },
  {
   "cell_type": "code",
   "execution_count": 14,
   "metadata": {},
   "outputs": [],
   "source": [
    "df_comunicacion = pd.read_excel('12_DICIEMBRE_2020.xlsx', sheet_name='COMUNICACION', skiprows=5)\n",
    "df_comunicacion['SHEET'] = 'COMUNICACION'"
   ]
  },
  {
   "cell_type": "code",
   "execution_count": 15,
   "metadata": {},
   "outputs": [],
   "source": [
    "df_personales = pd.read_excel('12_DICIEMBRE_2020.xlsx', sheet_name='SERV. PERS.', skiprows=5)\n",
    "df_personales['SHEET'] = 'SERV. PERS.'\n"
   ]
  },
  {
   "cell_type": "code",
   "execution_count": 16,
   "metadata": {},
   "outputs": [],
   "source": [
    "df_compras_dic = pd.concat([df_gastos_varios, df_contratistas, df_servicios, df_comunicacion, df_personales])\n"
   ]
  },
  {
   "cell_type": "code",
   "execution_count": 17,
   "metadata": {},
   "outputs": [
    {
     "data": {
      "text/html": [
       "<div>\n",
       "<style scoped>\n",
       "    .dataframe tbody tr th:only-of-type {\n",
       "        vertical-align: middle;\n",
       "    }\n",
       "\n",
       "    .dataframe tbody tr th {\n",
       "        vertical-align: top;\n",
       "    }\n",
       "\n",
       "    .dataframe thead th {\n",
       "        text-align: right;\n",
       "    }\n",
       "</style>\n",
       "<table border=\"1\" class=\"dataframe\">\n",
       "  <thead>\n",
       "    <tr style=\"text-align: right;\">\n",
       "      <th></th>\n",
       "      <th>NUM BEN</th>\n",
       "      <th>BENEFICIARIO</th>\n",
       "      <th>RFC</th>\n",
       "      <th>FACTURA</th>\n",
       "      <th>CONTRATO</th>\n",
       "      <th>CONCEPTO</th>\n",
       "      <th>TIPO</th>\n",
       "      <th># OP</th>\n",
       "      <th>FECHA</th>\n",
       "      <th>IMPORTE</th>\n",
       "      <th>SHEET</th>\n",
       "    </tr>\n",
       "  </thead>\n",
       "  <tbody>\n",
       "    <tr>\n",
       "      <th>0</th>\n",
       "      <td>110152</td>\n",
       "      <td>LLANTAS Y SERVICIOS SERNA ANAHUAC,S.A. DE C.V.</td>\n",
       "      <td>LSS841015DV3</td>\n",
       "      <td>LLS AF8458-158008-3972</td>\n",
       "      <td>OT. 20204373</td>\n",
       "      <td>REEMPLAZO E INSTALACION DE AMORTIGUADORES (DEL...</td>\n",
       "      <td>TR</td>\n",
       "      <td>1019110.0</td>\n",
       "      <td>2020-12-11</td>\n",
       "      <td>14911.80</td>\n",
       "      <td>GASTOS VARIOS</td>\n",
       "    </tr>\n",
       "    <tr>\n",
       "      <th>1</th>\n",
       "      <td>110152</td>\n",
       "      <td>LLANTAS Y SERVICIOS SERNA ANAHUAC,S.A. DE C.V.</td>\n",
       "      <td>LSS841015DV3</td>\n",
       "      <td>LLS PF6916-158008-4041</td>\n",
       "      <td>OT. 20204425</td>\n",
       "      <td>REEMPLAZO E INSTALACION DE OCHO BIRLOS Y NUEVE...</td>\n",
       "      <td>TR</td>\n",
       "      <td>1019110.0</td>\n",
       "      <td>2020-12-11</td>\n",
       "      <td>2528.80</td>\n",
       "      <td>GASTOS VARIOS</td>\n",
       "    </tr>\n",
       "    <tr>\n",
       "      <th>2</th>\n",
       "      <td>110152</td>\n",
       "      <td>LLANTAS Y SERVICIOS SERNA ANAHUAC,S.A. DE C.V.</td>\n",
       "      <td>LSS841015DV3</td>\n",
       "      <td>LLS PF6917-158008-3975</td>\n",
       "      <td>OT. 20204376</td>\n",
       "      <td>REEMPLAZO DE DOS RINES  (17). PATRIMONIO 80383...</td>\n",
       "      <td>TR</td>\n",
       "      <td>1019110.0</td>\n",
       "      <td>2020-12-11</td>\n",
       "      <td>8500.02</td>\n",
       "      <td>GASTOS VARIOS</td>\n",
       "    </tr>\n",
       "    <tr>\n",
       "      <th>3</th>\n",
       "      <td>110152</td>\n",
       "      <td>LLANTAS Y SERVICIOS SERNA ANAHUAC,S.A. DE C.V.</td>\n",
       "      <td>LSS841015DV3</td>\n",
       "      <td>LLS PF7004-158008-3971</td>\n",
       "      <td>OT. 20204374</td>\n",
       "      <td>REEMPLAZO DE  DOS RINES  (14). PATRIMONIO 8007...</td>\n",
       "      <td>TR</td>\n",
       "      <td>1019110.0</td>\n",
       "      <td>2020-12-11</td>\n",
       "      <td>2400.01</td>\n",
       "      <td>GASTOS VARIOS</td>\n",
       "    </tr>\n",
       "    <tr>\n",
       "      <th>4</th>\n",
       "      <td>110152</td>\n",
       "      <td>LLANTAS Y SERVICIOS SERNA ANAHUAC,S.A. DE C.V.</td>\n",
       "      <td>LSS841015DV3</td>\n",
       "      <td>LLS PF7137-158008-4554</td>\n",
       "      <td>OT. 20205130</td>\n",
       "      <td>REEMPLAZO E INSTALACION DE RIN 14. PATRIMONIO ...</td>\n",
       "      <td>TR</td>\n",
       "      <td>299001496.0</td>\n",
       "      <td>2020-12-23</td>\n",
       "      <td>1537.00</td>\n",
       "      <td>GASTOS VARIOS</td>\n",
       "    </tr>\n",
       "  </tbody>\n",
       "</table>\n",
       "</div>"
      ],
      "text/plain": [
       "  NUM BEN                                    BENEFICIARIO           RFC  \\\n",
       "0  110152  LLANTAS Y SERVICIOS SERNA ANAHUAC,S.A. DE C.V.  LSS841015DV3   \n",
       "1  110152  LLANTAS Y SERVICIOS SERNA ANAHUAC,S.A. DE C.V.  LSS841015DV3   \n",
       "2  110152  LLANTAS Y SERVICIOS SERNA ANAHUAC,S.A. DE C.V.  LSS841015DV3   \n",
       "3  110152  LLANTAS Y SERVICIOS SERNA ANAHUAC,S.A. DE C.V.  LSS841015DV3   \n",
       "4  110152  LLANTAS Y SERVICIOS SERNA ANAHUAC,S.A. DE C.V.  LSS841015DV3   \n",
       "\n",
       "                  FACTURA      CONTRATO  \\\n",
       "0  LLS AF8458-158008-3972  OT. 20204373   \n",
       "1  LLS PF6916-158008-4041  OT. 20204425   \n",
       "2  LLS PF6917-158008-3975  OT. 20204376   \n",
       "3  LLS PF7004-158008-3971  OT. 20204374   \n",
       "4  LLS PF7137-158008-4554  OT. 20205130   \n",
       "\n",
       "                                            CONCEPTO TIPO         # OP  \\\n",
       "0  REEMPLAZO E INSTALACION DE AMORTIGUADORES (DEL...   TR    1019110.0   \n",
       "1  REEMPLAZO E INSTALACION DE OCHO BIRLOS Y NUEVE...   TR    1019110.0   \n",
       "2  REEMPLAZO DE DOS RINES  (17). PATRIMONIO 80383...   TR    1019110.0   \n",
       "3  REEMPLAZO DE  DOS RINES  (14). PATRIMONIO 8007...   TR    1019110.0   \n",
       "4  REEMPLAZO E INSTALACION DE RIN 14. PATRIMONIO ...   TR  299001496.0   \n",
       "\n",
       "       FECHA   IMPORTE          SHEET  \n",
       "0 2020-12-11  14911.80  GASTOS VARIOS  \n",
       "1 2020-12-11   2528.80  GASTOS VARIOS  \n",
       "2 2020-12-11   8500.02  GASTOS VARIOS  \n",
       "3 2020-12-11   2400.01  GASTOS VARIOS  \n",
       "4 2020-12-23   1537.00  GASTOS VARIOS  "
      ]
     },
     "execution_count": 17,
     "metadata": {},
     "output_type": "execute_result"
    }
   ],
   "source": [
    "df_compras_dic.head(5)\n"
   ]
  },
  {
   "cell_type": "code",
   "execution_count": 20,
   "metadata": {},
   "outputs": [
    {
     "data": {
      "text/plain": [
       "1774"
      ]
     },
     "execution_count": 20,
     "metadata": {},
     "output_type": "execute_result"
    }
   ],
   "source": [
    "len(df_compras_dic)"
   ]
  },
  {
   "cell_type": "code",
   "execution_count": 19,
   "metadata": {},
   "outputs": [],
   "source": [
    "df_compras_dic_com = df_compras_dic.dropna(how='any')"
   ]
  },
  {
   "cell_type": "code",
   "execution_count": 22,
   "metadata": {},
   "outputs": [
    {
     "data": {
      "text/plain": [
       "1540"
      ]
     },
     "execution_count": 22,
     "metadata": {},
     "output_type": "execute_result"
    }
   ],
   "source": [
    "len(df_compras_dic_com)"
   ]
  },
  {
   "cell_type": "code",
   "execution_count": 23,
   "metadata": {},
   "outputs": [
    {
     "data": {
      "text/plain": [
       "NUM BEN                 object\n",
       "BENEFICIARIO            object\n",
       "RFC                     object\n",
       "FACTURA                 object\n",
       "CONTRATO                object\n",
       "CONCEPTO                object\n",
       "TIPO                    object\n",
       "# OP                   float64\n",
       "FECHA           datetime64[ns]\n",
       "IMPORTE                float64\n",
       "SHEET                   object\n",
       "dtype: object"
      ]
     },
     "execution_count": 23,
     "metadata": {},
     "output_type": "execute_result"
    }
   ],
   "source": [
    "df_compras_dic_com.dtypes"
   ]
  },
  {
   "cell_type": "code",
   "execution_count": 27,
   "metadata": {},
   "outputs": [
    {
     "data": {
      "text/plain": [
       "12    1540\n",
       "Name: FECHA, dtype: int64"
      ]
     },
     "execution_count": 27,
     "metadata": {},
     "output_type": "execute_result"
    }
   ],
   "source": [
    "df_compras_dic_com['FECHA'].apply(lambda x: x.month).value_counts()\n",
    "#Validamos que toda la data este como decha en la columna"
   ]
  },
  {
   "cell_type": "code",
   "execution_count": 30,
   "metadata": {},
   "outputs": [],
   "source": [
    "df_compras_dic_com.to_csv('EJERCICIOS ETL/Data/clean_compras.csv', index=None)"
   ]
  },
  {
   "cell_type": "code",
   "execution_count": null,
   "metadata": {},
   "outputs": [],
   "source": []
  },
  {
   "cell_type": "code",
   "execution_count": null,
   "metadata": {},
   "outputs": [],
   "source": []
  },
  {
   "cell_type": "code",
   "execution_count": null,
   "metadata": {},
   "outputs": [],
   "source": []
  },
  {
   "cell_type": "code",
   "execution_count": null,
   "metadata": {},
   "outputs": [],
   "source": []
  },
  {
   "cell_type": "code",
   "execution_count": null,
   "metadata": {},
   "outputs": [],
   "source": []
  },
  {
   "cell_type": "code",
   "execution_count": null,
   "metadata": {},
   "outputs": [],
   "source": []
  },
  {
   "cell_type": "code",
   "execution_count": null,
   "metadata": {},
   "outputs": [],
   "source": []
  },
  {
   "cell_type": "code",
   "execution_count": 10,
   "metadata": {},
   "outputs": [
    {
     "data": {
      "text/html": [
       "<div>\n",
       "<style scoped>\n",
       "    .dataframe tbody tr th:only-of-type {\n",
       "        vertical-align: middle;\n",
       "    }\n",
       "\n",
       "    .dataframe tbody tr th {\n",
       "        vertical-align: top;\n",
       "    }\n",
       "\n",
       "    .dataframe thead th {\n",
       "        text-align: right;\n",
       "    }\n",
       "</style>\n",
       "<table border=\"1\" class=\"dataframe\">\n",
       "  <thead>\n",
       "    <tr style=\"text-align: right;\">\n",
       "      <th></th>\n",
       "      <th>NUM BEN</th>\n",
       "      <th>BENEFICIARIO</th>\n",
       "      <th>RFC</th>\n",
       "      <th>FACTURA</th>\n",
       "      <th>CONTRATO</th>\n",
       "      <th>CONCEPTO</th>\n",
       "      <th>TIPO</th>\n",
       "      <th># OP</th>\n",
       "      <th>FECHA</th>\n",
       "      <th>IMPORTE</th>\n",
       "      <th>SHEET</th>\n",
       "    </tr>\n",
       "  </thead>\n",
       "  <tbody>\n",
       "    <tr>\n",
       "      <th>0</th>\n",
       "      <td>203013</td>\n",
       "      <td>ARRIAGA PEREZ ROCIO JAZMIN</td>\n",
       "      <td>AIPR9204286E1</td>\n",
       "      <td>113710-158004-1714</td>\n",
       "      <td>NO APLICA</td>\n",
       "      <td>FINIQUITO 113710</td>\n",
       "      <td>CH</td>\n",
       "      <td>299000184.0</td>\n",
       "      <td>2020-12-17</td>\n",
       "      <td>24797.96</td>\n",
       "      <td>SERV. PERS.</td>\n",
       "    </tr>\n",
       "    <tr>\n",
       "      <th>1</th>\n",
       "      <td>203013</td>\n",
       "      <td>AYALA SALAZAR GABRIEL</td>\n",
       "      <td>AASG841003MUA</td>\n",
       "      <td>119488-158004-1692</td>\n",
       "      <td>NO APLICA</td>\n",
       "      <td>FINIQUITO 119488</td>\n",
       "      <td>CH</td>\n",
       "      <td>299000170.0</td>\n",
       "      <td>2020-12-11</td>\n",
       "      <td>44602.65</td>\n",
       "      <td>SERV. PERS.</td>\n",
       "    </tr>\n",
       "    <tr>\n",
       "      <th>2</th>\n",
       "      <td>203013</td>\n",
       "      <td>BRANDI ELGUEZABAL MARCELO</td>\n",
       "      <td>BAEM840706IW8</td>\n",
       "      <td>116321-158004-1728</td>\n",
       "      <td>NO APLICA</td>\n",
       "      <td>FINIQUITO 116321</td>\n",
       "      <td>CH</td>\n",
       "      <td>299000192.0</td>\n",
       "      <td>2020-12-21</td>\n",
       "      <td>64941.95</td>\n",
       "      <td>SERV. PERS.</td>\n",
       "    </tr>\n",
       "    <tr>\n",
       "      <th>3</th>\n",
       "      <td>203013</td>\n",
       "      <td>BRAVO GARZA CARLOS ALBERTO</td>\n",
       "      <td>BAGC710225DV6</td>\n",
       "      <td>110914-158004-1698</td>\n",
       "      <td>NO APLICA</td>\n",
       "      <td>FINIQUITO 110914</td>\n",
       "      <td>CH</td>\n",
       "      <td>299000166.0</td>\n",
       "      <td>2020-12-11</td>\n",
       "      <td>77228.33</td>\n",
       "      <td>SERV. PERS.</td>\n",
       "    </tr>\n",
       "    <tr>\n",
       "      <th>4</th>\n",
       "      <td>203013</td>\n",
       "      <td>BRAVO MENDOZA JOEL</td>\n",
       "      <td>BAMJ851218R50</td>\n",
       "      <td>110915-158004-1699</td>\n",
       "      <td>NO APLICA</td>\n",
       "      <td>FINIQUITO  110915</td>\n",
       "      <td>CH</td>\n",
       "      <td>299000173.0</td>\n",
       "      <td>2020-12-11</td>\n",
       "      <td>42831.35</td>\n",
       "      <td>SERV. PERS.</td>\n",
       "    </tr>\n",
       "  </tbody>\n",
       "</table>\n",
       "</div>"
      ],
      "text/plain": [
       "  NUM BEN                BENEFICIARIO            RFC             FACTURA  \\\n",
       "0  203013  ARRIAGA PEREZ ROCIO JAZMIN  AIPR9204286E1  113710-158004-1714   \n",
       "1  203013       AYALA SALAZAR GABRIEL  AASG841003MUA  119488-158004-1692   \n",
       "2  203013   BRANDI ELGUEZABAL MARCELO  BAEM840706IW8  116321-158004-1728   \n",
       "3  203013  BRAVO GARZA CARLOS ALBERTO  BAGC710225DV6  110914-158004-1698   \n",
       "4  203013          BRAVO MENDOZA JOEL  BAMJ851218R50  110915-158004-1699   \n",
       "\n",
       "    CONTRATO           CONCEPTO TIPO         # OP      FECHA   IMPORTE  \\\n",
       "0  NO APLICA   FINIQUITO 113710   CH  299000184.0 2020-12-17  24797.96   \n",
       "1  NO APLICA   FINIQUITO 119488   CH  299000170.0 2020-12-11  44602.65   \n",
       "2  NO APLICA   FINIQUITO 116321   CH  299000192.0 2020-12-21  64941.95   \n",
       "3  NO APLICA   FINIQUITO 110914   CH  299000166.0 2020-12-11  77228.33   \n",
       "4  NO APLICA  FINIQUITO  110915   CH  299000173.0 2020-12-11  42831.35   \n",
       "\n",
       "         SHEET  \n",
       "0  SERV. PERS.  \n",
       "1  SERV. PERS.  \n",
       "2  SERV. PERS.  \n",
       "3  SERV. PERS.  \n",
       "4  SERV. PERS.  "
      ]
     },
     "execution_count": 10,
     "metadata": {},
     "output_type": "execute_result"
    }
   ],
   "source": [
    "def dataframe(file, sheet, rows):\n",
    "    df=pd.read_excel(file, sheet_name=sheet, skiprows=rows)\n",
    "    df['SHEET']=sheet\n",
    "    return df\n",
    "df_personales=dataframe('12_DICIEMBRE_2020.xlsx', 'SERV. PERS.', 5)\n",
    "df_personales.head() "
   ]
  }
 ],
 "metadata": {
  "interpreter": {
   "hash": "b3ba2566441a7c06988d0923437866b63cedc61552a5af99d1f4fb67d367b25f"
  },
  "kernelspec": {
   "display_name": "Python 3.8.5 64-bit ('base': conda)",
   "name": "python3"
  },
  "language_info": {
   "codemirror_mode": {
    "name": "ipython",
    "version": 3
   },
   "file_extension": ".py",
   "mimetype": "text/x-python",
   "name": "python",
   "nbconvert_exporter": "python",
   "pygments_lexer": "ipython3",
   "version": "3.8.5"
  },
  "orig_nbformat": 4
 },
 "nbformat": 4,
 "nbformat_minor": 2
}
